{
  "cells": [
    {
      "cell_type": "markdown",
      "metadata": {
        "id": "yY79sSqp3WC2"
      },
      "source": [
        "# 01. Introducción a Python"
      ]
    },
    {
      "cell_type": "code",
      "execution_count": null,
      "metadata": {
        "id": "-NUdrpBq3WC7",
        "outputId": "36bcca71-ea5e-4328-da6f-5bfd110ff0d1"
      },
      "outputs": [
        {
          "data": {
            "text/html": [
              "<link href='http://fonts.googleapis.com/css?family=Fenix' rel='stylesheet' type='text/css'>\n",
              "<link href='http://fonts.googleapis.com/css?family=Alegreya+Sans:100,300,400,500,700,800,900,100italic,300italic,400italic,500italic,700italic,800italic,900italic' rel='stylesheet' type='text/css'>\n",
              "<link href='http://fonts.googleapis.com/css?family=Source+Code+Pro:300,400' rel='stylesheet' type='text/css'>\n",
              "<style>\n",
              "    @font-face {\n",
              "        font-family: \"Computer Modern\";\n",
              "        src: url('http://mirrors.ctan.org/fonts/cm-unicode/fonts/otf/cmunss.otf');\n",
              "    }\n",
              "    div.cell{\n",
              "        width:800px;\n",
              "        margin-left:16% !important;\n",
              "        margin-right:auto;\n",
              "    }\n",
              "\n",
              "    h1 {\n",
              "        font-family: 'Alegreya Sans', sans-serif;\n",
              "    }\n",
              "    h2 {\n",
              "        font-family: 'Fenix', serif;\n",
              "    }\n",
              "    h3{\n",
              "\t\tfont-family: 'Fenix', serif;\n",
              "        margin-top:12px;\n",
              "        margin-bottom: 3px;\n",
              "       }\n",
              "\th4{\n",
              "\t\tfont-family: 'Fenix', serif;\n",
              "       }\n",
              "    h5 {\n",
              "        font-family: 'Alegreya Sans', sans-serif;\n",
              "    }\t   \n",
              "\n",
              "    div.text_cell_render{\n",
              "        font-family: 'Alegreya Sans',Computer Modern, \"Helvetica Neue\", Arial, Helvetica, Geneva, sans-serif;\n",
              "        line-height: 135%;\n",
              "        font-size: 120%;\n",
              "        width:600px;\n",
              "        margin-left:auto;\n",
              "        margin-right:auto;\n",
              "    }\n",
              "\n",
              "    b { font-size:400%; }\n",
              "\n",
              ".text_cell_render table {\n",
              "    border: solid 1px #DDEEEE;\n",
              "    border-collapse: collapse;\n",
              "    border-spacing: 0;\n",
              "    width: 500px;\n",
              "    font: normal 13px Arial, sans-serif;\n",
              "}\n",
              ".text_cell_render th {\n",
              "    background-color: #DDEFEF;\n",
              "    border: solid 1px #DDEEEE;\n",
              "    color: #336B6B;\n",
              "    padding: 10px;\n",
              "    text-align: left;\n",
              "    text-shadow: 1px 1px 1px #fff;\n",
              "}\n",
              ".text_cell_render tbody td {\n",
              "    border: solid 1px #DDEEEE;\n",
              "    color: #333;\n",
              "    padding: 10px;\n",
              "    text-shadow: 1px 1px 1px #fff;\n",
              "}\n",
              "\n",
              ".text_cell_render pre { \n",
              "    font-family: Monaco, Consolas, \"Andale Mono\", \"DejaVu Sans Mono\", monospace;\n",
              "    font-size: 80%;\n",
              "    line-height: 140%;\n",
              "    white-space: pre;\n",
              "    white-space: pre-wrap;\n",
              "    white-space: -moz-pre-wrap;\n",
              "    white-space: -o-pre-wrap;\n",
              "    background: #faf8f0;\n",
              "} \n",
              "\n",
              ".text_cell_render code {     \n",
              "    font-family: Monaco, Consolas, \"Andale Mono\", \"DejaVu Sans Mono\", monospace;\n",
              "    font-size: 80%;\n",
              "    line-height: 140%;\n",
              "    white-space: pre;\n",
              "    white-space: pre-wrap;\n",
              "    white-space: -moz-pre-wrap;\n",
              "    white-space: -o-pre-wrap;\n",
              "    background: #faf8f0;\n",
              "}\n",
              "\n",
              "\n",
              "    .CodeMirror{\n",
              "            font-family: \"Source Code Pro\";\n",
              "\t\t\tfont-size: 90%;\n",
              "    }\n",
              "/*    .prompt{\n",
              "        display: None;\n",
              "    }*/\n",
              "    .text_cell_render h1 {\n",
              "        font-weight: 200;\n",
              "        font-size: 50pt;\n",
              "\t\tline-height: 100%;\n",
              "        color:#CD2305;\n",
              "        margin-bottom: 0.5em;\n",
              "        margin-top: 0.5em;\n",
              "        display: block;\n",
              "    }\t\n",
              "    .text_cell_render h5 {\n",
              "        font-weight: 300;\n",
              "        font-size: 16pt;\n",
              "        color: #CD2305;\n",
              "        font-style: italic;\n",
              "        margin-bottom: .5em;\n",
              "        margin-top: 0.5em;\n",
              "        display: block;\n",
              "    }\n",
              "    \n",
              "    .warning{\n",
              "        color: rgb( 240, 20, 20 )\n",
              "        }  \n",
              "</style>\n",
              "<script>\n",
              "    MathJax.Hub.Config({\n",
              "                        TeX: {\n",
              "                           extensions: [\"AMSmath.js\"]\n",
              "                           },\n",
              "                tex2jax: {\n",
              "                    inlineMath: [ ['$','$'], [\"\\\\(\",\"\\\\)\"] ],\n",
              "                    displayMath: [ ['$$','$$'], [\"\\\\[\",\"\\\\]\"] ]\n",
              "                },\n",
              "                displayAlign: 'center', // Change this to 'center' to center equations.\n",
              "                \"HTML-CSS\": {\n",
              "                    styles: {'.MathJax_Display': {\"margin\": 4}}\n",
              "                }\n",
              "        });\n",
              "</script>\n"
            ],
            "text/plain": [
              "<IPython.core.display.HTML object>"
            ]
          },
          "execution_count": 2,
          "metadata": {},
          "output_type": "execute_result"
        }
      ],
      "source": [
        "# imports and formatting ONLY IN NOTEBOOK\n",
        "import book_format, warnings\n",
        "%config InlineBackend.figure_format = 'svg'\n",
        "warnings.filterwarnings('ignore'); book_format.load_style()"
      ]
    },
    {
      "cell_type": "markdown",
      "metadata": {
        "id": "449aoOPN3WC_"
      },
      "source": [
        "## Asignación automatica de tipos de variables"
      ]
    },
    {
      "cell_type": "markdown",
      "metadata": {
        "id": "Fvy3fUoy3WDA"
      },
      "source": [
        "En Python no es necesario declarar explícitamente el tipo de las variables. El intérprete trata de inferir el tipo de las variables según se usan. Igualmente, las operaciones tienen semántica distinta para distintos tipos de datos. Fíjate en el ejemplo siguiente. ¿Por qué el resultado de las dos últimas divisiones no es el mismo?"
      ]
    },
    {
      "cell_type": "code",
      "execution_count": 1,
      "metadata": {
        "colab": {
          "base_uri": "https://localhost:8080/"
        },
        "id": "CcjvXXFi3WDA",
        "outputId": "8f5b3127-873d-4120-dd7d-10b7283ad32d"
      },
      "outputs": [
        {
          "output_type": "stream",
          "name": "stdout",
          "text": [
            "<class 'int'> <class 'int'> <class 'float'> <class 'str'>\n",
            "a = 10 ; b = 3 ; c = 3.0\n",
            "a/b = 3.3333333333333335\n",
            "a/c = 3.3333333333333335\n"
          ]
        }
      ],
      "source": [
        "a = 10\n",
        "b = 3\n",
        "c = 3.\n",
        "d = \"hola\"\n",
        "print (type(a), type(b), type(c), type(d))\n",
        "\n",
        "print (\"a =\",a,\"; b =\",b, \"; c =\",c)\n",
        "print (\"a/b =\", a/b)\n",
        "print (\"a/c =\", a/c)"
      ]
    },
    {
      "cell_type": "markdown",
      "metadata": {
        "id": "-eWV4F-M3WDB"
      },
      "source": [
        "## Matrices y vectores"
      ]
    },
    {
      "cell_type": "markdown",
      "metadata": {
        "id": "5_64hdRE3WDC"
      },
      "source": [
        "Con la librería `numpy` se trabaja con matrices de forma natural. Fíjate cómo se declaran y cómo descubrimos sus dimensiones."
      ]
    },
    {
      "cell_type": "code",
      "execution_count": 2,
      "metadata": {
        "colab": {
          "base_uri": "https://localhost:8080/"
        },
        "id": "X9Bsn9Kw3WDD",
        "outputId": "3d636fde-c83c-4377-c92a-85fc7c285d2a"
      },
      "outputs": [
        {
          "output_type": "stream",
          "name": "stdout",
          "text": [
            "a shape (7, 5)\n",
            "a rows 7\n",
            "a cols 5\n",
            "v shape (8,)\n",
            "v elems 8\n"
          ]
        }
      ],
      "source": [
        "import numpy as np\n",
        "\n",
        "a = np.array([[1,2,3,4,5],\n",
        "              [5,4,3,2,1],\n",
        "              [9,8,7,6,5],\n",
        "              [7,6,5,6,7],\n",
        "              [2,2,2,3,3],\n",
        "              [4,3,4,3,4],\n",
        "              [5,1,1,4,1]])\n",
        "print (\"a shape\", a.shape)\n",
        "print (\"a rows\", a.shape[0])\n",
        "print (\"a cols\", a.shape[1])\n",
        "\n",
        "v = np.array([2,3,4,5,6,7,3,12])\n",
        "print (\"v shape\", v.shape)\n",
        "print (\"v elems\", v.shape[0])"
      ]
    },
    {
      "cell_type": "markdown",
      "metadata": {
        "id": "tc50iTRM3WDE"
      },
      "source": [
        "Con la notación de índices accedemos a columas o filas enteras, rangos de columnas o filas, elementos individuales o porciones de una matriz o un vector."
      ]
    },
    {
      "cell_type": "code",
      "execution_count": 3,
      "metadata": {
        "colab": {
          "base_uri": "https://localhost:8080/"
        },
        "id": "xprGd4l-3WDF",
        "outputId": "5afa8c24-578a-4dcc-ab5b-41fa1846e72b"
      },
      "outputs": [
        {
          "output_type": "stream",
          "name": "stdout",
          "text": [
            "una fila         [9 8 7 6 5]\n",
            "una fila         [9 8 7 6 5]\n",
            "una columna      [3 3 7 5 2 4 1]\n",
            "un elemento      7\n",
            "varias filas    \n",
            " [[9 8 7 6 5]\n",
            " [7 6 5 6 7]\n",
            " [2 2 2 3 3]]\n",
            "varias columnas \n",
            " [[2 3]\n",
            " [4 3]\n",
            " [8 7]\n",
            " [6 5]\n",
            " [2 2]\n",
            " [3 4]\n",
            " [1 1]]\n",
            "una porcion     \n",
            " [[8 7]\n",
            " [6 5]\n",
            " [2 2]]\n"
          ]
        }
      ],
      "source": [
        "print (\"una fila        \" ,a[2])\n",
        "print (\"una fila        \",a[2,:])\n",
        "print (\"una columna     \",a[:,2])\n",
        "print (\"un elemento     \",a[2,2])\n",
        "print (\"varias filas    \\n\",a[2:5])\n",
        "print (\"varias columnas \\n\",a[:,1:3])\n",
        "print (\"una porcion     \\n\",a[2:5,1:3])\n"
      ]
    },
    {
      "cell_type": "markdown",
      "metadata": {
        "id": "2RA1PCu83WDF"
      },
      "source": [
        "Muchas funciones de la librería `numpy` operan sobre una matriz completa, o de forma separada por columnas o filas según el valor del argumento `axis`."
      ]
    },
    {
      "cell_type": "code",
      "execution_count": 4,
      "metadata": {
        "colab": {
          "base_uri": "https://localhost:8080/"
        },
        "id": "J36J7iLg3WDG",
        "outputId": "5d1b2c7a-b102-4511-c00a-8a64885491c8"
      },
      "outputs": [
        {
          "output_type": "stream",
          "name": "stdout",
          "text": [
            "suma total 138\n",
            "suma eje 0 [33 26 25 28 26]\n",
            "suma eje 1 [15 15 35 31 12 18 12]\n",
            "promedio total 3.942857142857143\n",
            "promedio eje 0 [4.71428571 3.71428571 3.57142857 4.         3.71428571]\n",
            "promedio eje 1 [3.  3.  7.  6.2 2.4 3.6 2.4]\n"
          ]
        }
      ],
      "source": [
        "print (\"suma total\", np.sum(a))\n",
        "print (\"suma eje 0\", np.sum(a, axis=0))\n",
        "print (\"suma eje 1\", np.sum(a, axis=1))\n",
        "print (\"promedio total\", np.mean(a))\n",
        "print (\"promedio eje 0\", np.mean(a, axis=0))\n",
        "print (\"promedio eje 1\", np.mean(a, axis=1))"
      ]
    },
    {
      "cell_type": "markdown",
      "metadata": {
        "id": "RrwRUQFa3WDG"
      },
      "source": [
        "Las matrices en Python pueden tener un número arbitrario de dimensiones y podemos acceder a submatrices en la dirección o dimensión que queramos."
      ]
    },
    {
      "cell_type": "code",
      "execution_count": 5,
      "metadata": {
        "colab": {
          "base_uri": "https://localhost:8080/"
        },
        "id": "SVFg-qIQ3WDG",
        "outputId": "ab62d19b-a00a-4749-8c9e-4cb0e312cba3"
      },
      "outputs": [
        {
          "output_type": "stream",
          "name": "stdout",
          "text": [
            "Matrix 3D completa\n",
            " [[[4 8 8]\n",
            "  [2 1 0]\n",
            "  [9 4 6]]\n",
            "\n",
            " [[3 9 8]\n",
            "  [0 8 8]\n",
            "  [8 3 0]]\n",
            "\n",
            " [[5 7 7]\n",
            "  [3 6 6]\n",
            "  [3 3 6]]]\n",
            "---\n",
            " [[4 8 8]\n",
            " [2 1 0]\n",
            " [9 4 6]]\n",
            "---\n",
            " [[3 9 8]\n",
            " [0 8 8]\n",
            " [8 3 0]]\n",
            "---\n",
            " [[4 8 8]\n",
            " [3 9 8]\n",
            " [5 7 7]]\n",
            "---\n",
            " [4 3 5]\n",
            "---\n",
            " [[6.66666667 1.         6.33333333]\n",
            " [6.66666667 5.33333333 3.66666667]\n",
            " [6.33333333 5.         4.        ]]\n"
          ]
        }
      ],
      "source": [
        "m = np.random.randint(10, size=(3,3,3))\n",
        "print (\"Matrix 3D completa\\n\", m)\n",
        "print (\"---\\n\", m[0,:,:])\n",
        "print (\"---\\n\", m[1,:,:])\n",
        "print (\"---\\n\", m[:,0,:])\n",
        "print (\"---\\n\", m[:,0,0])\n",
        "print (\"---\\n\", np.mean(m, axis=2))\n"
      ]
    },
    {
      "cell_type": "markdown",
      "metadata": {
        "id": "hwVrA_fl3WDH"
      },
      "source": [
        "## Generación de matrices y vectores"
      ]
    },
    {
      "cell_type": "code",
      "execution_count": 7,
      "metadata": {
        "colab": {
          "base_uri": "https://localhost:8080/"
        },
        "id": "4ALD3a1G3WDH",
        "outputId": "c7c2bb9c-e822-4d67-a126-b3afec3c9397"
      },
      "outputs": [
        {
          "output_type": "stream",
          "name": "stdout",
          "text": [
            "matrix identidad\n",
            " [[1. 0. 0.]\n",
            " [0. 1. 0.]\n",
            " [0. 0. 1.]]\n",
            "vector de ceros [0. 0. 0. 0.]\n",
            "matriz de ceros\n",
            " [[0. 0.]\n",
            " [0. 0.]\n",
            " [0. 0.]]\n",
            "matriz de unos\n",
            " [[1. 1. 1.]\n",
            " [1. 1. 1.]]\n",
            "vector rango [0 1 2 3 4 5 6 7 8 9]\n",
            "vector rango [5 6 7 8 9]\n",
            "vector espacio lineal [-10.   -7.5  -5.   -2.5   0.    2.5   5. ]\n",
            "matriz aleatoria según distribución uniforme [0,1]\n",
            " [[0.29238586 0.13720796 0.70553327 0.43622714 0.63544929]\n",
            " [0.82163292 0.96032104 0.19656211 0.09372899 0.10323782]\n",
            " [0.35736646 0.90940966 0.82548933 0.14107486 0.19678361]]\n",
            "vector aleatorio de enteros entre 0 y 5 [1 4 0 1 1 4 4 1 4 4]\n"
          ]
        }
      ],
      "source": [
        "print (\"matrix identidad\\n\", np.eye(3))\n",
        "print (\"vector de ceros\", np.zeros(4))\n",
        "print (\"matriz de ceros\\n\", np.zeros((3,2)))\n",
        "print (\"matriz de unos\\n\", np.ones((2,3)))\n",
        "print (\"vector rango\", np.arange(10))\n",
        "print (\"vector rango\", np.arange(5,10))\n",
        "print (\"vector espacio lineal\", np.linspace(-10,5,7))\n",
        "print (\"matriz aleatoria según distribución uniforme [0,1]\\n\", np.random.random(size=(3,5)))\n",
        "print (\"vector aleatorio de enteros entre 0 y 5\", np.random.randint(5, size=10))"
      ]
    },
    {
      "cell_type": "markdown",
      "metadata": {
        "id": "EwIq2GiX3WDI"
      },
      "source": [
        "## Operaciones vectorizadas"
      ]
    },
    {
      "cell_type": "code",
      "execution_count": 9,
      "metadata": {
        "colab": {
          "base_uri": "https://localhost:8080/"
        },
        "id": "iVy-ZYVz3WDI",
        "outputId": "d3ac7087-19bd-4d66-d7fe-fd1b9bdfbfe5"
      },
      "outputs": [
        {
          "output_type": "stream",
          "name": "stdout",
          "text": [
            "[10 12 13 15 20]\n",
            "[11 13 14 16 21]\n",
            "[20 24 26 30 40]\n",
            "1038\n"
          ]
        }
      ],
      "source": [
        "v = np.array([10,12,13,15,20])\n",
        "print (v)\n",
        "print (v+1)\n",
        "print (v*2)\n",
        "print (v.dot(v))"
      ]
    },
    {
      "cell_type": "code",
      "execution_count": null,
      "metadata": {
        "id": "Y8Cl_Q303WDI",
        "outputId": "738361c9-d41b-4496-bfc6-7e7409c0a4da"
      },
      "outputs": [
        {
          "name": "stdout",
          "output_type": "stream",
          "text": [
            "A [0, 1, 2, 3, 4, 5, 6, 7, 8, 9]\n",
            "B [  0.    2.5   5.    7.5  10. ]\n"
          ]
        }
      ],
      "source": [
        "print (\"A\", range(10))\n",
        "print (\"B\", np.linspace(0,10,5))"
      ]
    },
    {
      "cell_type": "code",
      "execution_count": 10,
      "metadata": {
        "colab": {
          "base_uri": "https://localhost:8080/"
        },
        "id": "oarhkboB3WDJ",
        "outputId": "f2c49daa-14a8-4e7f-e2be-e223bc272f43"
      },
      "outputs": [
        {
          "output_type": "stream",
          "name": "stdout",
          "text": [
            "a+b\n",
            " [[7 7 7]\n",
            " [7 7 7]]\n",
            "a**2\n",
            " [[ 1  4  9]\n",
            " [16 25 36]]\n",
            "a*b\n",
            " [[ 6 10 12]\n",
            " [12 10  6]]\n",
            "a x b'\n",
            " [[28 10]\n",
            " [73 28]]\n",
            "a' x b\n",
            " [[18 13  8]\n",
            " [27 20 13]\n",
            " [36 27 18]]\n"
          ]
        }
      ],
      "source": [
        "a = np.array([[1,2,3],[4,5,6]])\n",
        "b = np.array([[6,5,4],[3,2,1]])\n",
        "print (\"a+b\\n\",a+b)\n",
        "print (\"a**2\\n\", a**2)\n",
        "print (\"a*b\\n\",a*b)\n",
        "print (\"a x b'\\n\",a.dot(b.T))\n",
        "print (\"a' x b\\n\",a.T.dot(b))\n"
      ]
    },
    {
      "cell_type": "markdown",
      "metadata": {
        "id": "aImQ_6Al3WDJ"
      },
      "source": [
        "Las operaciones vectorizadas también funcionan con expresiones _booleanas_. Fíjate cómo se indexa un vector con una expresión booleana para seleccionar un conjunto de elementos."
      ]
    },
    {
      "cell_type": "code",
      "execution_count": 11,
      "metadata": {
        "colab": {
          "base_uri": "https://localhost:8080/"
        },
        "id": "WzsuJhpY3WDK",
        "outputId": "287b9078-fd1a-4bc4-928a-4e4a514d7d24"
      },
      "outputs": [
        {
          "output_type": "stream",
          "name": "stdout",
          "text": [
            "posiciones en a >4: [False  True False  True False  True]\n",
            "elementos de a >4: [ 8 10  5]\n"
          ]
        }
      ],
      "source": [
        "a = np.array([1,8,4,10,-4,5])\n",
        "print (\"posiciones en a >4:\", a>4)\n",
        "print (\"elementos de a >4:\",a[a>4])\n"
      ]
    },
    {
      "cell_type": "markdown",
      "metadata": {
        "id": "bJh83iKp3WDK"
      },
      "source": [
        "## Funciones y estructuras"
      ]
    },
    {
      "cell_type": "markdown",
      "metadata": {
        "id": "hn06OpVI3WDL"
      },
      "source": [
        "Python es un lenguaje **indentado**, no usa corchetes para delimitar el alcance de las estructuras de programación sino que se fija en los **cambios de indentación**. \n",
        "\n",
        "No se declara el tipo de los argumentos de las funciones. La semática de la implementación ha de estar preparada para funcionar con los tipos de datos que quieres."
      ]
    },
    {
      "cell_type": "code",
      "execution_count": 14,
      "metadata": {
        "colab": {
          "base_uri": "https://localhost:8080/"
        },
        "id": "ZVQrELrb3WDL",
        "outputId": "7bfd7c7d-3064-495f-86ad-12d2b8174174"
      },
      "outputs": [
        {
          "output_type": "stream",
          "name": "stdout",
          "text": [
            "110.16000000000001\n",
            "[110.16 112.16]\n",
            "[[14 22]\n",
            " [ 1  1]]\n",
            "10\n"
          ]
        }
      ],
      "source": [
        "def funcion_1(a,b):\n",
        "    r = a**2\n",
        "    return r+b\n",
        "\n",
        "def greatest(a,b):\n",
        "    if a>b:\n",
        "        return a\n",
        "    else:\n",
        "        return b\n",
        "\n",
        "m1 = np.array([[3,4],[1,1]])\n",
        "m2 = np.array([[5,6],[0,0]])\n",
        "print (funcion_1(10.4,2))\n",
        "print (funcion_1(10.4, np.array([2,4])))\n",
        "print (funcion_1(m1,m2))\n",
        "print (greatest (10,2))"
      ]
    },
    {
      "cell_type": "markdown",
      "metadata": {
        "id": "u6msxf9Q3WDL"
      },
      "source": [
        "Podemos definir valores por defecto para los argumentos de las funciones y llamarlas usando explícitamente el nombre de los argumentos. Además, las funciones pueden devolver varios valores."
      ]
    },
    {
      "cell_type": "code",
      "execution_count": 15,
      "metadata": {
        "colab": {
          "base_uri": "https://localhost:8080/"
        },
        "id": "Se1W9o_v3WDM",
        "outputId": "8c586d4b-84de-40db-af63-e1d4c1c04f71"
      },
      "outputs": [
        {
          "output_type": "stream",
          "name": "stdout",
          "text": [
            "16\n",
            "64\n",
            "(64, 64)\n",
            "power1 64 power2 256\n"
          ]
        }
      ],
      "source": [
        "def f_power(x, p=2):\n",
        "    return x**p\n",
        "\n",
        "def f_powers(x, p1=2, p2=3):\n",
        "    return x**p1, x**p2\n",
        "\n",
        "print (f_power(4))\n",
        "print (f_power(4,3))\n",
        "print (f_powers(4, p1=3))\n",
        "xp1, xp2 = f_powers(4, p2=4, p1=3)\n",
        "print(\"power1\",xp1, \"power2\", xp2)"
      ]
    },
    {
      "cell_type": "markdown",
      "metadata": {
        "id": "0eW6Dp863WDM"
      },
      "source": [
        "## Diccionarios"
      ]
    },
    {
      "cell_type": "markdown",
      "metadata": {
        "id": "4RTO5tCK3WDM"
      },
      "source": [
        "Los diccionarios son listas de asociaciones entre objetos (como _hashes_ en Java)"
      ]
    },
    {
      "cell_type": "code",
      "execution_count": 16,
      "metadata": {
        "colab": {
          "base_uri": "https://localhost:8080/"
        },
        "id": "XqZYcpAs3WDM",
        "outputId": "75eddbf7-aaef-4000-b05c-8f491d461906"
      },
      "outputs": [
        {
          "output_type": "stream",
          "name": "stdout",
          "text": [
            "{'i1': 16, 'nombre': 'haskel', 'edad': 32}\n",
            "dict_keys(['i1', 'nombre', 'edad'])\n",
            "haskel 32\n",
            "16\n",
            "haskel\n",
            "32\n"
          ]
        }
      ],
      "source": [
        "d = {\"i1\": 16, \"nombre\": \"haskel\", \"edad\": 32}\n",
        "print (d)\n",
        "print (d.keys())\n",
        "print (d[\"nombre\"], d[\"edad\"])\n",
        "for k in d.keys():\n",
        "    print (d[k])"
      ]
    },
    {
      "cell_type": "markdown",
      "metadata": {
        "id": "g_iPy9Ya3WDN"
      },
      "source": [
        "## Expresiones compactas"
      ]
    },
    {
      "cell_type": "markdown",
      "metadata": {
        "id": "vWViSoZU3WDN"
      },
      "source": [
        "Fíjate cómo las siguientes expresiones son equivalentes:"
      ]
    },
    {
      "cell_type": "code",
      "execution_count": 17,
      "metadata": {
        "colab": {
          "base_uri": "https://localhost:8080/"
        },
        "id": "giab1ZuD3WDN",
        "outputId": "fe992588-d543-40bc-9033-d18596038be1"
      },
      "outputs": [
        {
          "output_type": "stream",
          "name": "stdout",
          "text": [
            "mayor que 10\n"
          ]
        }
      ],
      "source": [
        "a=15\n",
        "if a > 10:\n",
        "    s = \"mayor que 10\"\n",
        "else:\n",
        "    s = \"menor que 10\"\n",
        "\n",
        "print (s)"
      ]
    },
    {
      "cell_type": "code",
      "execution_count": 18,
      "metadata": {
        "colab": {
          "base_uri": "https://localhost:8080/"
        },
        "id": "ipSyFv6c3WDN",
        "outputId": "b6577d99-50b9-4a46-c866-e8b152b39e63"
      },
      "outputs": [
        {
          "output_type": "stream",
          "name": "stdout",
          "text": [
            "menor que 10\n"
          ]
        }
      ],
      "source": [
        "a = 5\n",
        "s = \"mayor que 10\" if a > 10 else \"menor que 10\"\n",
        "print (s)"
      ]
    },
    {
      "cell_type": "code",
      "execution_count": 19,
      "metadata": {
        "colab": {
          "base_uri": "https://localhost:8080/"
        },
        "id": "v8yrMZUK3WDO",
        "outputId": "a84d43d4-1a45-4768-8715-7af464ab8697"
      },
      "outputs": [
        {
          "output_type": "stream",
          "name": "stdout",
          "text": [
            "['el numero 0', 'el numero 1', 'el numero 2', 'el numero 3', 'el numero 4', 'el numero 5', 'el numero 6', 'el numero 7', 'el numero 8', 'el numero 9']\n"
          ]
        }
      ],
      "source": [
        "r = []\n",
        "for i in range(10):\n",
        "    r.append(\"el numero \"+str(i))\n",
        "print (r)"
      ]
    },
    {
      "cell_type": "code",
      "execution_count": 20,
      "metadata": {
        "colab": {
          "base_uri": "https://localhost:8080/"
        },
        "id": "bN5j3hOW3WDO",
        "outputId": "f174099b-ab79-470a-9228-4102d4c1ab26"
      },
      "outputs": [
        {
          "output_type": "stream",
          "name": "stdout",
          "text": [
            "['el numero 0', 'el numero 1', 'el numero 2', 'el numero 3', 'el numero 4', 'el numero 5', 'el numero 6', 'el numero 7', 'el numero 8', 'el numero 9']\n"
          ]
        }
      ],
      "source": [
        "r = [\"el numero \"+str(i) for i in range(10)]\n",
        "print (r)"
      ]
    },
    {
      "cell_type": "markdown",
      "metadata": {
        "id": "YU7w0NpS3WDP"
      },
      "source": [
        "## Gráficos"
      ]
    },
    {
      "cell_type": "markdown",
      "metadata": {
        "id": "5rl5gvq93WDP"
      },
      "source": [
        "Con **plt.plot** pintamos puntos conectados, con **plt.scatter\" pintamos puntos sueltos"
      ]
    },
    {
      "cell_type": "code",
      "execution_count": 21,
      "metadata": {
        "colab": {
          "base_uri": "https://localhost:8080/",
          "height": 228
        },
        "id": "TBSAToQl3WDP",
        "outputId": "51ba514d-5b91-4f6a-dbc6-9fc72a951524"
      },
      "outputs": [
        {
          "output_type": "execute_result",
          "data": {
            "text/plain": [
              "<matplotlib.collections.PathCollection at 0x7f95b1272550>"
            ]
          },
          "metadata": {},
          "execution_count": 21
        },
        {
          "output_type": "display_data",
          "data": {
            "text/plain": [
              "<Figure size 360x216 with 1 Axes>"
            ],
            "image/png": "[encoded data removed]"
          },
          "metadata": {
            "needs_background": "light"
          }
        }
      ],
      "source": [
        "import matplotlib.pyplot as plt\n",
        "import numpy as np\n",
        "%matplotlib inline\n",
        "plt.figure(figsize=(5,3))\n",
        "x = np.linspace(-4,4,10)\n",
        "plt.plot(x, x**2, color=\"black\", linewidth=1)\n",
        "plt.scatter(x, x**2, c=\"green\", s=50)\n",
        "x_r = np.linspace(-4,4,100)\n",
        "x_ruido = x_r**2 + (np.random.random(x_r.shape)-0.5)*10\n",
        "plt.scatter(x_r,x_ruido, c=\"red\", alpha=0.4)"
      ]
    },
    {
      "cell_type": "code",
      "execution_count": null,
      "metadata": {
        "id": "gxC-IweJ3WDP"
      },
      "outputs": [],
      "source": [
        ""
      ]
    }
  ],
  "metadata": {
    "kernelspec": {
      "display_name": "Python 2",
      "language": "python",
      "name": "python2"
    },
    "language_info": {
      "codemirror_mode": {
        "name": "ipython",
        "version": 2
      },
      "file_extension": ".py",
      "mimetype": "text/x-python",
      "name": "python",
      "nbconvert_exporter": "python",
      "pygments_lexer": "ipython2",
      "version": "2.7.11"
    },
    "toc": {
      "toc_cell": false,
      "toc_number_sections": true,
      "toc_threshold": 6,
      "toc_window_display": false
    },
    "colab": {
      "name": "PARALLEL IPYTHON - Notas 1 - Introduccion_a_Python.ipynb",
      "provenance": []
    }
  },
  "nbformat": 4,
  "nbformat_minor": 0
}